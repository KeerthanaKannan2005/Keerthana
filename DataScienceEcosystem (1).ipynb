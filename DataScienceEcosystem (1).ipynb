{
 "cells": [
  {
   "cell_type": "code",
   "execution_count": 1,
   "id": "c6aff952-a0bb-48b9-9488-390da5cd7622",
   "metadata": {},
   "outputs": [],
   "source": [
    "#Data Science Tools and Ecosystem"
   ]
  },
  {
   "cell_type": "code",
   "execution_count": 2,
   "id": "65a40b3c-a9ff-433c-a117-a4fd6d20d4b0",
   "metadata": {},
   "outputs": [],
   "source": [
    "# In This Notebook, Data Science Tools and Ecosystem are summarized."
   ]
  },
  {
   "cell_type": "markdown",
   "id": "cb137ac5-d216-463a-bd74-f5e079c82dde",
   "metadata": {
    "scrolled": true
   },
   "source": [
    "Some of the popular languages that Data Scientists use are:\n",
    "\n",
    "1.Python\n",
    "2.R\n",
    "3.SQL\n"
   ]
  },
  {
   "cell_type": "markdown",
   "id": "94d02b10-d60a-49e0-969b-22dd0c5a11e5",
   "metadata": {},
   "source": [
    " Some of the commonly used libraries by data scientists include:\n",
    "\n",
    "1. Pandas\n",
    "2. NumPy\n",
    "3. Matplotlib\n"
   ]
  },
  {
   "cell_type": "markdown",
   "id": "bfa747d5-6b5c-41c1-a3ee-85fb377586f9",
   "metadata": {},
   "source": [
    "Data Science Tools\n",
    "   Jupyter Notebook\n",
    "   Visual Studio Code\n",
    "   R Studio"
   ]
  },
  {
   "cell_type": "markdown",
   "id": "cb31a551-1c4b-4668-ad68-695b31976571",
   "metadata": {},
   "source": [
    "\n",
    "# Addition\n",
    "result_addition = 10 + 5\n",
    "print(\"Addition:\", result_addition) \n",
    "\n",
    "# Subtraction\n",
    "result_subtraction = 20 - 8\n",
    "print(\"Subtraction:\", result_subtraction)  \n",
    "# Multiplication\n",
    "result_multiplication = 7 * 4\n",
    "print(\"Multiplication:\", result_multiplication)  \n",
    "\n",
    "# Division\n",
    "result_division = 50 / 10\n",
    "print(\"Division:\", result_division)  \n"
   ]
  },
  {
   "cell_type": "code",
   "execution_count": 29,
   "id": "5994eaf9-b037-42ef-854d-122493da39fe",
   "metadata": {},
   "outputs": [
    {
     "name": "stdout",
     "output_type": "stream",
     "text": [
      "17\n"
     ]
    }
   ],
   "source": [
    "result = (3 * 4) + 5\n",
    "print(result) "
   ]
  },
  {
   "cell_type": "code",
   "execution_count": 30,
   "id": "c7a146fa-89ab-4fd3-a64e-e6b7d53cda7d",
   "metadata": {},
   "outputs": [
    {
     "name": "stdout",
     "output_type": "stream",
     "text": [
      "3.3333333333333335\n"
     ]
    }
   ],
   "source": [
    "minutes = 200\n",
    "hours = minutes / 60\n",
    "print(hours) "
   ]
  },
  {
   "cell_type": "markdown",
   "id": "d7c523eb-686f-4c54-bf5c-554e78b97dc5",
   "metadata": {},
   "source": [
    "**Objectives:**\r\n",
    "\r\n",
    "- List popular languages for Data Science.\r\n",
    "- Introduce arithmetic expressions in Python.\r\n",
    "- Demonstrate basic arithmetic operations in Python.\r\n",
    "- Convert units using arithmetic expressions in Python.\r\n"
   ]
  },
  {
   "cell_type": "markdown",
   "id": "0067675f-99bd-4505-8bcb-42056be593ec",
   "metadata": {},
   "source": [
    "# Author\n",
    "Keerthana\n"
   ]
  },
  {
   "cell_type": "code",
   "execution_count": null,
   "id": "e7004aa7-8c31-4084-8279-6d091861168e",
   "metadata": {},
   "outputs": [],
   "source": []
  }
 ],
 "metadata": {
  "kernelspec": {
   "display_name": "Python 3 (ipykernel)",
   "language": "python",
   "name": "python3"
  },
  "language_info": {
   "codemirror_mode": {
    "name": "ipython",
    "version": 3
   },
   "file_extension": ".py",
   "mimetype": "text/x-python",
   "name": "python",
   "nbconvert_exporter": "python",
   "pygments_lexer": "ipython3",
   "version": "3.11.7"
  }
 },
 "nbformat": 4,
 "nbformat_minor": 5
}
